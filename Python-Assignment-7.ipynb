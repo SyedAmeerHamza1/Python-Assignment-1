{
 "cells": [
  {
   "cell_type": "code",
   "execution_count": null,
   "id": "8dea6c9c",
   "metadata": {},
   "outputs": [],
   "source": [
    "# Python-Assignment-6\n",
    "\n",
    "Q.1. Create two int type variables, apply addition, subtraction, division and multiplications\n",
    "and store the results in variables. Then print the data in the following format by calling the\n",
    "variables:\n",
    "First variable is __ & second variable is __.\n",
    "Addition: __ + __ = __\n",
    "Subtraction: __ - __ = __\n",
    "Multiplication: __ * __ = __\n",
    "Division: __ / __ = __\n",
    "Q.2. What is the difference between the following operators:\n",
    "(i) ‘/’ & ‘//’\n",
    "(ii) ‘**’ & ‘^’\n",
    "Q.3. List the logical operators.\n",
    "Q.4. Explain right shift operator and left shift operator with examples.\n",
    "Q.5. Create a list containing int type data of length 15. Then write a code to check if 10 is\n",
    "present in the list or not"
   ]
  },
  {
   "cell_type": "code",
   "execution_count": 36,
   "id": "63afb218",
   "metadata": {},
   "outputs": [
    {
     "name": "stdout",
     "output_type": "stream",
     "text": [
      "variables: a, b\n",
      "First variable is 30 & second variable is 50\n",
      "Addition: 30 + 50 = 80\n",
      "Subtraction: 30 - 50 = -20\n",
      "Multiplication: 30 * 50 = 1500\n",
      "Division: 30 / 50 = 0.6\n"
     ]
    }
   ],
   "source": [
    "'''\n",
    "Q.1. Create two int type variables, apply addition, subtraction, division and multiplications\n",
    "and store the results in variables. Then print the data in the following format by calling the\n",
    "variables:\n",
    "First variable is __ & second variable is __.\n",
    "Addition: __ + __ = __\n",
    "Subtraction: __ - __ = __\n",
    "Multiplication: __ * __ = __\n",
    "Division: __ / __ = __\n",
    "'''\n",
    "a=30\n",
    "b=50\n",
    "Addition=a+b\n",
    "Subtraction=a-b\n",
    "Multiplication=a*b\n",
    "Division=a/b\n",
    "\n",
    "\n",
    "print(\"variables: a, b\")\n",
    "print('First variable is {} & second variable is {}'.format(a,b))\n",
    "print('Addition: {} + {} = {}'.format(a,b,Addition))\n",
    "print('Subtraction: {} - {} = {}'.format(a,b,Subtraction))\n",
    "print('Multiplication: {} * {} = {}'.format(a,b,Multiplication))\n",
    "print('Division: {} / {} = {}'.format(a,b,Division))"
   ]
  },
  {
   "cell_type": "code",
   "execution_count": 44,
   "id": "66a34f4f",
   "metadata": {},
   "outputs": [
    {
     "name": "stdout",
     "output_type": "stream",
     "text": [
      "2.0 2\n",
      "100000 15\n"
     ]
    }
   ],
   "source": [
    "'''Q.2. What is the difference between the following operators:\n",
    "(i) ‘/’ & ‘//’\n",
    "(ii) ‘**’ & ‘^’\n",
    "'''\n",
    "#(i) ‘/’ & ‘//’\n",
    "a=10\n",
    "b=5\n",
    "c=a/b  # Float Division(\"/\") \n",
    "d=a//b # Integer Division(\"//\")\n",
    "print(c,d)\n",
    "\n",
    "e=a**b  #\"**\" operator is used for power of\n",
    "f=a^b   #  XOR is a bitwise operator that is also known as Exclusive OR. It is a logical operator which outputs 1 when either of the operands is 1 (one is 1 and the other one is 0), but both are not 1, and both are not 0. \n",
    "print(e,f)"
   ]
  },
  {
   "cell_type": "code",
   "execution_count": null,
   "id": "128c5609",
   "metadata": {},
   "outputs": [],
   "source": [
    "#Q.3. List the logical operators.\n",
    "\n",
    "'''\n",
    "There are three types of logical operators in Python:\n",
    "And Operator.\n",
    "Or Operator.\n",
    "Not Operator.\n",
    "'''"
   ]
  },
  {
   "cell_type": "code",
   "execution_count": null,
   "id": "c618b9fb",
   "metadata": {},
   "outputs": [],
   "source": [
    "# Q.4. Explain right shift operator and left shift operator with examples.\n",
    "\n",
    "'''\n",
    "right-shift operator ( >> ), which moves the bits of an integer or enumeration type expression to the right, and the left-shift operator ( << ), which moves the bits to the left.\n",
    "'''"
   ]
  },
  {
   "cell_type": "code",
   "execution_count": 53,
   "id": "83c9609b",
   "metadata": {},
   "outputs": [
    {
     "name": "stdout",
     "output_type": "stream",
     "text": [
      "10 is present\n",
      "10 is present\n"
     ]
    }
   ],
   "source": [
    "## Q.5. Create a list containing int type data of length 15. Then write a code to check if 10 is present in the list or not\n",
    "\n",
    "my_list=[1,3,4,6,8,0,10,14,6,54,16,10,15,7,8]\n",
    "\n",
    "for i in my_list:\n",
    "    if i==10:\n",
    "        print(\"10 is present\")"
   ]
  },
  {
   "cell_type": "code",
   "execution_count": null,
   "id": "6d4a5e42",
   "metadata": {},
   "outputs": [],
   "source": []
  },
  {
   "cell_type": "code",
   "execution_count": null,
   "id": "bc099307",
   "metadata": {},
   "outputs": [],
   "source": []
  },
  {
   "cell_type": "code",
   "execution_count": null,
   "id": "af3f5c57",
   "metadata": {},
   "outputs": [],
   "source": []
  },
  {
   "cell_type": "code",
   "execution_count": null,
   "id": "60f9ac8d",
   "metadata": {},
   "outputs": [],
   "source": []
  },
  {
   "cell_type": "code",
   "execution_count": null,
   "id": "85b88aa6",
   "metadata": {},
   "outputs": [],
   "source": []
  },
  {
   "cell_type": "code",
   "execution_count": null,
   "id": "2cb7e9ac",
   "metadata": {},
   "outputs": [],
   "source": []
  },
  {
   "cell_type": "code",
   "execution_count": null,
   "id": "0387b834",
   "metadata": {},
   "outputs": [],
   "source": []
  },
  {
   "cell_type": "code",
   "execution_count": null,
   "id": "6dfee0b0",
   "metadata": {},
   "outputs": [],
   "source": []
  },
  {
   "cell_type": "code",
   "execution_count": null,
   "id": "0cc00d9e",
   "metadata": {},
   "outputs": [],
   "source": []
  },
  {
   "cell_type": "code",
   "execution_count": null,
   "id": "8400ea78",
   "metadata": {},
   "outputs": [],
   "source": []
  },
  {
   "cell_type": "code",
   "execution_count": null,
   "id": "4d058234",
   "metadata": {},
   "outputs": [],
   "source": []
  },
  {
   "cell_type": "code",
   "execution_count": null,
   "id": "c922f662",
   "metadata": {},
   "outputs": [],
   "source": []
  },
  {
   "cell_type": "code",
   "execution_count": null,
   "id": "f5f51b1f",
   "metadata": {},
   "outputs": [],
   "source": []
  },
  {
   "cell_type": "code",
   "execution_count": null,
   "id": "d4a15a80",
   "metadata": {},
   "outputs": [],
   "source": []
  },
  {
   "cell_type": "code",
   "execution_count": null,
   "id": "0b712b2a",
   "metadata": {},
   "outputs": [],
   "source": []
  },
  {
   "cell_type": "code",
   "execution_count": null,
   "id": "6bb7cf43",
   "metadata": {},
   "outputs": [],
   "source": []
  },
  {
   "cell_type": "code",
   "execution_count": null,
   "id": "8f8847f1",
   "metadata": {},
   "outputs": [],
   "source": []
  }
 ],
 "metadata": {
  "kernelspec": {
   "display_name": "Python 3 (ipykernel)",
   "language": "python",
   "name": "python3"
  },
  "language_info": {
   "codemirror_mode": {
    "name": "ipython",
    "version": 3
   },
   "file_extension": ".py",
   "mimetype": "text/x-python",
   "name": "python",
   "nbconvert_exporter": "python",
   "pygments_lexer": "ipython3",
   "version": "3.9.13"
  }
 },
 "nbformat": 4,
 "nbformat_minor": 5
}
