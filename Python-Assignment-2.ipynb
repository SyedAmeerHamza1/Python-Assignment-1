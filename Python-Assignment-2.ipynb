{
 "cells": [
  {
   "cell_type": "code",
   "execution_count": null,
   "id": "1e454d25",
   "metadata": {},
   "outputs": [],
   "source": [
    "# Python-Assignment-2\n",
    "\n",
    "1.What are the two values of the Boolean data type? How do you write them?\n",
    "2. What are the three different types of Boolean operators?\n",
    "3. Make a list of each Boolean operator's truth tables (i.e. every possible combination of Boolean values for the operator and what it evaluate ).\n",
    "4. What are the values of the following expressions?\n",
    "(5 > 4) and (3 == 5)\n",
    "not (5 > 4)\n",
    "(5 > 4) or (3 == 5)\n",
    "not ((5 > 4) or (3 == 5))\n",
    "(True and True) and (True == False)\n",
    "(not False) or (not True)\n",
    "5. What are the six comparison operators?\n",
    "6. How do you tell the difference between the equal to and assignment operators?Describe a condition and when you would use one.\n",
    "7. Identify the three blocks in this code:\n",
    "spam = 0\n",
    "if spam == 10:\n",
    "print('eggs')\n",
    "if spam > 5:\n",
    "print('bacon')\n",
    "else:\n",
    "print('ham')\n",
    "print('spam')\n",
    "print('spam')\n",
    "8. Write code that prints Hello if 1 is stored in spam, prints Howdy if 2 is stored in spam, and prints Greetings! if anything else is stored in spam.\n",
    "\n",
    "\n",
    "9.If your programme is stuck in an endless loop, what keys you’ll press?\n",
    "10. How can you tell the difference between break and continue?\n",
    "11. In a for loop, what is the difference between range(10), range(0, 10), and range(0, 10, 1)?\n",
    "12. Write a short program that prints the numbers 1 to 10 using a for loop. Then write an equivalent program that prints the numbers 1 to 10 using a while loop.\n",
    "13. If you had a function named bacon() inside a module named spam, how would you call it after importing spam?\n",
    "\n"
   ]
  },
  {
   "cell_type": "code",
   "execution_count": 6,
   "id": "c2e12d51",
   "metadata": {},
   "outputs": [
    {
     "name": "stdout",
     "output_type": "stream",
     "text": [
      "True False\n"
     ]
    }
   ],
   "source": [
    "# 1.What are the two values of the Boolean data type? How do you write them?\n",
    "\n",
    "# boolean can have two values: True and False\n",
    "a=bool(True)\n",
    "b=bool(False)\n",
    "print(a,b)"
   ]
  },
  {
   "cell_type": "code",
   "execution_count": null,
   "id": "deeb8e71",
   "metadata": {},
   "outputs": [],
   "source": [
    "#2. What are the three different types of Boolean operators?\n",
    "\n",
    "'''\n",
    "Key words                  Meaning\n",
    " not                     unarynegation\n",
    " and                     conditional AND\n",
    " or                      conditional OR \n",
    "'''"
   ]
  },
  {
   "cell_type": "code",
   "execution_count": null,
   "id": "d48319f7",
   "metadata": {},
   "outputs": [],
   "source": [
    "#3. Make a list of each Boolean operator's truth tables (i.e. every possible combination of Boolean values for the operator and what it evaluate ).\n",
    "\n",
    "# Need help in this"
   ]
  },
  {
   "cell_type": "code",
   "execution_count": 15,
   "id": "b7d36c74",
   "metadata": {},
   "outputs": [
    {
     "name": "stdout",
     "output_type": "stream",
     "text": [
      "Object `expressions` not found.\n"
     ]
    },
    {
     "data": {
      "text/plain": [
       "True"
      ]
     },
     "execution_count": 15,
     "metadata": {},
     "output_type": "execute_result"
    }
   ],
   "source": [
    "'''4. What are the values of the following expressions?\n",
    "(5 > 4) and (3 == 5)\n",
    "not (5 > 4)\n",
    "(5 > 4) or (3 == 5)\n",
    "not ((5 > 4) or (3 == 5))\n",
    "(True and True) and (True == False)\n",
    "(not False) or (not True)'''\n",
    "\n",
    "\n",
    "(5 > 4) and (3 == 5)   #False\n",
    "not (5 > 4)     #False\n",
    "(5 > 4) or (3 == 5)   #True\n",
    "not ((5 > 4) or (3 == 5))   #False\n",
    "(True and True) and (True == False)   #False\n",
    "(not False) or (not True)   #True"
   ]
  },
  {
   "cell_type": "code",
   "execution_count": null,
   "id": "28b8f03a",
   "metadata": {},
   "outputs": [],
   "source": [
    "5. What are the six comparison operators?\n",
    "\n",
    "\n",
    "''' Comparison Operators\n",
    " Operation                    Meaning\n",
    " <                           Less than\n",
    " <=                          Less than or equal to\n",
    " >                           Greater than\n",
    " >=                          Greater than or equal to\n",
    " ==                          Equal to\n",
    " !=                          Not equal to\n",
    "'''"
   ]
  },
  {
   "cell_type": "code",
   "execution_count": 30,
   "id": "57563c8d",
   "metadata": {},
   "outputs": [
    {
     "name": "stdout",
     "output_type": "stream",
     "text": [
      "X is equal to Y\n",
      "20\n"
     ]
    }
   ],
   "source": [
    "#6. How do you tell the difference between the equal to and assignment operators?Describe a condition and when you would use one.\n",
    "\n",
    "x=10\n",
    "y=10\n",
    "\n",
    "# ==     Equal to\n",
    "x==y\n",
    "# =      assignment operators\n",
    "x=y\n",
    "\n",
    "if x==y:\n",
    "    print(\"X is equal to Y\")\n",
    "\n",
    "    \n",
    "a=10\n",
    "b=20\n",
    "a+=y   #assignment operators\n",
    "\n",
    "print(a)"
   ]
  },
  {
   "cell_type": "code",
   "execution_count": 34,
   "id": "46d42ed8",
   "metadata": {},
   "outputs": [
    {
     "name": "stdout",
     "output_type": "stream",
     "text": [
      "ham\n",
      "spam\n",
      "spam\n"
     ]
    }
   ],
   "source": [
    "#7. Identify the three blocks in this code:\n",
    "\n",
    "spam = 0\n",
    "if spam == 10:    #1-blocks\n",
    "    print('eggs')\n",
    "if spam > 5:     #2-blocks\n",
    "    print('bacon')\n",
    "else:            #3-blocks\n",
    "    print('ham')\n",
    "    print('spam')\n",
    "    print('spam')\n"
   ]
  },
  {
   "cell_type": "code",
   "execution_count": 36,
   "id": "ff518bc3",
   "metadata": {},
   "outputs": [
    {
     "name": "stdout",
     "output_type": "stream",
     "text": [
      "Hello\n",
      "Greetings!\n",
      "How are you doing\n"
     ]
    }
   ],
   "source": [
    "#8. Write code that prints Hello if 1 is stored in spam, prints Howdy if 2 is stored in spam, and prints Greetings! if anything else is stored in spam.\n",
    "\n",
    "\n",
    "spam=[1,3,2]\n",
    "\n",
    "for i in spam:\n",
    "    if i==1:\n",
    "        print(\"Hello\")\n",
    "    elif i==2:\n",
    "        print(\"How are you doing\")\n",
    "        \n",
    "    else:\n",
    "        print(\"Greetings!\")\n"
   ]
  },
  {
   "cell_type": "code",
   "execution_count": null,
   "id": "62195ffd",
   "metadata": {},
   "outputs": [],
   "source": [
    "#9.If your programme is stuck in an endless loop, what keys you’ll press?\n",
    "\n",
    "\n",
    "'''\n",
    "You can stop an infinite loop with CTRL + C\n",
    "'''"
   ]
  },
  {
   "cell_type": "code",
   "execution_count": 56,
   "id": "e6158e4b",
   "metadata": {},
   "outputs": [
    {
     "name": "stdout",
     "output_type": "stream",
     "text": [
      "1\n",
      "2\n",
      "3\n",
      "4\n",
      "1\n",
      "2\n",
      "3\n",
      "5\n",
      "6\n",
      "7\n"
     ]
    }
   ],
   "source": [
    "# 10. How can you tell the difference between break and continue?\n",
    "\n",
    "##break\n",
    "\n",
    "x=1\n",
    "\n",
    "while(x<7):\n",
    "    if(x==4):\n",
    "        break\n",
    "    print(x)   ## if we are printing after the break it will not consider and will not print the value which is equal\n",
    "    x=x+1\n",
    "\n",
    "\n",
    "while(x<7):\n",
    "    print(x)  ## Here we are using print before break so it will also consider and print the equal value\n",
    "    if(x==4):\n",
    "        break\n",
    "    x=x+1\n",
    "    \n",
    "x=0\n",
    "\n",
    "while x<7:\n",
    "    x=x+1\n",
    "    if x==4:\n",
    "        continue   ## if we are using continue it will skip the mentioned value\n",
    "    print(x)\n"
   ]
  },
  {
   "cell_type": "code",
   "execution_count": 64,
   "id": "e916f0fb",
   "metadata": {},
   "outputs": [
    {
     "name": "stdout",
     "output_type": "stream",
     "text": [
      "0\n",
      "1\n",
      "2\n",
      "3\n",
      "4\n",
      "5\n",
      "6\n",
      "7\n",
      "8\n",
      "9\n"
     ]
    }
   ],
   "source": [
    "#11. In a for loop, what is the difference between range(10), range(0, 10), and range(0, 10, 1)?\n",
    "i=0\n",
    "for i in range(10):    # It will print i+1 till 9\n",
    "    print(i)"
   ]
  },
  {
   "cell_type": "code",
   "execution_count": 72,
   "id": "18a2f33d",
   "metadata": {},
   "outputs": [
    {
     "name": "stdout",
     "output_type": "stream",
     "text": [
      "0\n",
      "2\n",
      "4\n",
      "6\n",
      "8\n"
     ]
    }
   ],
   "source": [
    "for i in range(0, 10,):    # It will print i+1 till 9 and we don't need to define i\n",
    "    print(i)"
   ]
  },
  {
   "cell_type": "code",
   "execution_count": 83,
   "id": "caac54ee",
   "metadata": {},
   "outputs": [
    {
     "name": "stdout",
     "output_type": "stream",
     "text": [
      "0\n",
      "2\n",
      "4\n",
      "6\n",
      "8\n"
     ]
    }
   ],
   "source": [
    "for i in range(0, 10,2):    # It will print i+1 till 9, we don't need to define i and if we (#range(start, stop[, step])) mention (-,-,1) i will take 1 step and if we mention 2 i will take 2 steps\n",
    "    print(i)"
   ]
  },
  {
   "cell_type": "code",
   "execution_count": 94,
   "id": "53a63999",
   "metadata": {},
   "outputs": [
    {
     "name": "stdout",
     "output_type": "stream",
     "text": [
      "0\n",
      "1\n",
      "2\n",
      "3\n",
      "4\n",
      "5\n",
      "6\n",
      "7\n",
      "8\n",
      "9\n",
      "10\n"
     ]
    }
   ],
   "source": [
    "#12. Write a short program that prints the numbers 1 to 10 using a for loop. Then write an equivalent program that prints the numbers 1 to 10 using a while loop.\n",
    "\n",
    "# for loop\n",
    "\n",
    "i=0\n",
    "for i in range(11):\n",
    "    print(i)"
   ]
  },
  {
   "cell_type": "code",
   "execution_count": 100,
   "id": "7326039f",
   "metadata": {},
   "outputs": [
    {
     "name": "stdout",
     "output_type": "stream",
     "text": [
      "0\n",
      "1\n",
      "2\n",
      "3\n",
      "4\n",
      "5\n",
      "6\n",
      "7\n",
      "8\n",
      "9\n",
      "10\n"
     ]
    }
   ],
   "source": [
    "# while loop\n",
    "\n",
    "i=0\n",
    "while i<=10:\n",
    "    print(i)\n",
    "    i=i+1"
   ]
  },
  {
   "cell_type": "code",
   "execution_count": 1,
   "id": "83f7e4f2",
   "metadata": {},
   "outputs": [],
   "source": [
    "# 13. If you had a function named bacon() inside a module named spam, how would you call it after importing spam?\n",
    "\n",
    "import spam\n",
    "spam.bacon()"
   ]
  },
  {
   "cell_type": "code",
   "execution_count": null,
   "id": "5ddbc6e2",
   "metadata": {},
   "outputs": [],
   "source": []
  },
  {
   "cell_type": "code",
   "execution_count": null,
   "id": "e2b6f3c5",
   "metadata": {},
   "outputs": [],
   "source": []
  },
  {
   "cell_type": "code",
   "execution_count": null,
   "id": "8f30f1f2",
   "metadata": {},
   "outputs": [],
   "source": []
  }
 ],
 "metadata": {
  "kernelspec": {
   "display_name": "Python 3 (ipykernel)",
   "language": "python",
   "name": "python3"
  },
  "language_info": {
   "codemirror_mode": {
    "name": "ipython",
    "version": 3
   },
   "file_extension": ".py",
   "mimetype": "text/x-python",
   "name": "python",
   "nbconvert_exporter": "python",
   "pygments_lexer": "ipython3",
   "version": "3.9.13"
  }
 },
 "nbformat": 4,
 "nbformat_minor": 5
}
