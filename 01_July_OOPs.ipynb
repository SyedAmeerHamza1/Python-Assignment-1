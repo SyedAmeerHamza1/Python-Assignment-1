{
 "cells": [
  {
   "cell_type": "code",
   "execution_count": null,
   "id": "8f473ed2",
   "metadata": {},
   "outputs": [],
   "source": [
    "# 1. What is the primary goal of Object-Oriented Programming (OOP)?\n",
    "# 2. What is an object in Python?\n",
    "# 3. What is a class in Python?\n",
    "# 4. What are attributes and methods in a class?\n",
    "# 5. What is the difference between class variables and instance variables in Python?\n",
    "# 6. What is the purpose of the self parameter in Python class methods?\n",
    "# 7. For a library management system, you have to design the \"Book\" class with OOP\n",
    "# principles in mind. The “Book” class will have the following attributes:\n",
    "# a. title: Represents the title of the book.\n",
    "# b. author: Represents the author(s) of the book.\n",
    "# c. isbn: Represents the ISBN (International Standard Book Number) of the book.\n",
    "# d. publication_year: Represents the year of publication of the book.\n",
    "# e. available_copies: Represents the number of copies available for checkout.\n",
    "# The class will also include the following methods:\n",
    "# a. check_out(self): Decrements the available copies by one if there are copies\n",
    "# available for checkout.\n",
    "# b. return_book(self): Increments the available copies by one when a book is\n",
    "# returned.\n",
    "# c. display_book_info(self): Displays the information about the book, including its\n",
    "# attributes and the number of available copies.\n",
    "# 8. For a ticket booking system, you have to design the \"Ticket\" class with OOP\n",
    "# principles in mind. The “Ticket” class should have the following attributes:\n",
    "# a. ticket_id: Represents the unique identifier for the ticket.\n",
    "# b. event_name: Represents the name of the event.\n",
    "# c. event_date: Represents the date of the event.\n",
    "# d. venue: Represents the venue of the event.\n",
    "# e. seat_number: Represents the seat number associated with the ticket.\n",
    "# f. price: Represents the price of the ticket.\n",
    "# g. is_reserved: Represents the reservation status of the ticket.\n",
    "# The class also includes the following methods:\n",
    "# a. reserve_ticket(self): Marks the ticket as reserved if it is not already reserved.\n",
    "# b. cancel_reservation(self): Cancels the reservation of the ticket if it is already\n",
    "# reserved.\n",
    "# c. display_ticket_info(self): Displays the information about the ticket, including its\n",
    "# attributes and reservation status.\n",
    "# 9. You are creating a shopping cart for an e-commerce website. Using OOP to model\n",
    "# the \"ShoppingCart\" functionality the class should contain following attributes and\n",
    "# methods:\n",
    "# a. items: Represents the list of items in the shopping cart.\n",
    "# The class also includes the following methods:\n",
    "# a. add_item(self, item): Adds an item to the shopping cart by appending it to the\n",
    "# list of items.\n",
    "# b. remove_item(self, item): Removes an item from the shopping cart if it exists in\n",
    "# the list.\n",
    "# c. view_cart(self): Displays the items currently present in the shopping cart.\n",
    "# d. clear_cart(self): Clears all items from the shopping cart by reassigning an\n",
    "# empty list to the items attribute.\n",
    "# 10. Imagine a school management system. You have to design the \"Student\" class using\n",
    "# OOP concepts.The “Student” class has the following attributes:\n",
    "# a. name: Represents the name of the student.\n",
    "# b. age: Represents the age of the student.\n",
    "# c. grade: Represents the grade or class of the student.\n",
    "# d. student_id: Represents the unique identifier for the student.\n",
    "# e. attendance: Represents the attendance record of the student.\n",
    "# The class should also include the following methods:\n",
    "# a. update_attendance(self, date, status): Updates the attendance record of the\n",
    "# student for a given date with the provided status (e.g., present or absent).\n",
    "# b. get_attendance(self): Returns the attendance record of the student.\n",
    "# c. get_average_attendance(self): Calculates and returns the average\n",
    "# attendance percentage of the student based on their attendance record.\n"
   ]
  },
  {
   "cell_type": "code",
   "execution_count": null,
   "id": "dea99100",
   "metadata": {},
   "outputs": [],
   "source": [
    "# 1. What is the primary goal of Object-Oriented Programming (OOP)?\n",
    "\n",
    "'''\n",
    "An object-oriented Programming is a methodology or paradigm to design the program using classes and objects. The\n",
    "object is related to real-word entities such as book, house, pencil, etc. The oops concept focuses on writing the\n",
    "reusable code. It is a widespread technique to solve the problem by creating objects. main concept of OOPs is to bind\n",
    "the data and the functions that work on that together as a single unit so that no other part of the code can access\n",
    "this data.\n",
    "'''"
   ]
  },
  {
   "cell_type": "code",
   "execution_count": null,
   "id": "30d73184",
   "metadata": {},
   "outputs": [],
   "source": [
    "# 2. What is an object in Python?\n",
    "\n",
    "'''Objects: An object in Python is a data structure that contains data and methods. Objects are created from classes, \n",
    "which are blueprints for objects. Objects are a powerful way to organize and structure your code. They allow you to \n",
    "reuse code, encapsulate data, and create more complex and sophisticated programs.'''"
   ]
  },
  {
   "cell_type": "code",
   "execution_count": null,
   "id": "4b8b34a8",
   "metadata": {},
   "outputs": [],
   "source": [
    "# 3. What is a class in Python?\n",
    "\n",
    "'''\n",
    "Class: A class in Python is a blueprint for creating objects. It defines the data and behaviour that all objects \n",
    "of that class will have. Classes are the foundation of object-oriented programming (OOP) in Python.'''\n"
   ]
  },
  {
   "cell_type": "code",
   "execution_count": 3,
   "id": "13c25b48",
   "metadata": {},
   "outputs": [
    {
     "name": "stdout",
     "output_type": "stream",
     "text": [
      "rocky\n",
      "Woof\n"
     ]
    }
   ],
   "source": [
    "# 4. What are attributes and methods in a class?\n",
    "\n",
    "'''Attributes are variables that belong to an object. They can be used to store data about the object. For example, \n",
    "a Dog class might have an attribute called name that stores the name of the dog.\n",
    "\n",
    "Methods are functions that belong to an object. They can be used to perform actions on the object. For example, \n",
    "a Dog class might have a method called bark() that makes the dog bark.\n",
    "'''\n",
    "\n",
    "class dog:\n",
    "    def __init__(self, name):\n",
    "        self.name = name\n",
    "\n",
    "    def bark(self):\n",
    "        return \"Woof\"\n",
    "        \n",
    "Dog1=dog(\"rocky\")\n",
    "print(Dog1.name)\n",
    "print(Dog1.bark())\n"
   ]
  },
  {
   "cell_type": "code",
   "execution_count": null,
   "id": "1144d323",
   "metadata": {},
   "outputs": [],
   "source": [
    "# 5. What is the difference between class variables and instance variables in Python?\n",
    "\n",
    "'''\n",
    "In Python, class variables are variables that are shared by all instances of a class. They are defined within the \n",
    "class, but outside of any methods or constructors. Class variables are associated with the class itself rather than \n",
    "with specific instances of the class.\n",
    "\n",
    "Instance variables are typically used to store data that is specific to a particular object. For example, a Dog class \n",
    "might have an instance variable called name that stores the name of the dog. Each dog object would have its own \n",
    "unique name, so each object would have its own copy of the name instance variable.'''"
   ]
  },
  {
   "cell_type": "code",
   "execution_count": null,
   "id": "ca174b65",
   "metadata": {},
   "outputs": [],
   "source": [
    "# 6. What is the purpose of the self parameter in Python class methods?\n",
    "\n",
    "'''\n",
    "The self parameter in Python class methods refers to the current instance of the class. It is used to access the \n",
    "attributes and methods of the instance.'''"
   ]
  },
  {
   "cell_type": "code",
   "execution_count": 2,
   "id": "9ecb4793",
   "metadata": {},
   "outputs": [
    {
     "name": "stdout",
     "output_type": "stream",
     "text": [
      "25\n",
      "Henry Wang\n",
      "24\n",
      "25\n",
      "Information about The Data Science Handbook book, author is Henry Wang, ISBN is 9780692434871, publication year is 2015, and number of available are 23\n",
      "None\n"
     ]
    }
   ],
   "source": [
    "# 7. For a library management system, you have to design the \"Book\" class with OOP\n",
    "# principles in mind. The “Book” class will have following attributes:\n",
    "# a. title: Represents the title of the book.\n",
    "# b. author: Represents the author(s) of the book.\n",
    "# c. isbn: Represents the ISBN (International Standard Book Number) of the book.\n",
    "# d. publication_year: Represents the year of publication of the book.\n",
    "# e. available_copies: Represents the number of copies available for checkout.\n",
    "# The class will also include the following methods:\n",
    "# a. check_out(self): Decrements the available copies by one if there are copies\n",
    "# available for checkout.\n",
    "# b. return_book(self): Increments the available copies by one when a book is\n",
    "# returned.\n",
    "# c. display_book_info(self): Displays the information about the book, including its\n",
    "# attributes and the number of available copies.\n",
    "\n",
    "\n",
    "class book:\n",
    "    def __init__(self, title, author, isbn, publication_year, available_copies):\n",
    "        self.title = title\n",
    "        self.author = author\n",
    "        self.isbn = isbn\n",
    "        self.publication_year = publication_year\n",
    "        self.available_copies = available_copies\n",
    "\n",
    "    def check_out(self):\n",
    "        self.available_copies = self.available_copies - 1\n",
    "\n",
    "    def return_book(self):\n",
    "        self.available_copies = self.available_copies + 1\n",
    "\n",
    "    def display_book_info(self):\n",
    "        print(f'Information about {self.title} book, author is {self.author}, ISBN is {self.isbn}, publication year is '\n",
    "              f'{self.publication_year}, and number of available are {self.available_copies}')\n",
    "\n",
    "\n",
    "The_Data_Science_Handbook = book('The Data Science Handbook', 'Henry Wang', 9780692434871, 2015, 25)\n",
    "print(The_Data_Science_Handbook.available_copies)\n",
    "print(The_Data_Science_Handbook.author)\n",
    "\n",
    "The_Data_Science_Handbook.check_out()\n",
    "print(The_Data_Science_Handbook.available_copies)\n",
    "The_Data_Science_Handbook.return_book()\n",
    "print(The_Data_Science_Handbook.available_copies)\n",
    "The_Data_Science_Handbook.check_out()\n",
    "The_Data_Science_Handbook.check_out()\n",
    "\n",
    "print(The_Data_Science_Handbook.display_book_info())"
   ]
  },
  {
   "cell_type": "code",
   "execution_count": 6,
   "id": "5422392f",
   "metadata": {},
   "outputs": [
    {
     "name": "stdout",
     "output_type": "stream",
     "text": [
      "Ticket Info:\n",
      "Ticket ID: 12345678\n",
      "Event Name: The Avengers\n",
      "Event Date: 5-july-2023\n",
      "Venue: PVR\n",
      "Seat Number: 100\n",
      "Price: 300\n",
      "Reservation Status: False\n",
      "Ticket Info:\n",
      "Ticket ID: 12345678\n",
      "Event Name: The Avengers\n",
      "Event Date: 5-july-2023\n",
      "Venue: PVR\n",
      "Seat Number: 100\n",
      "Price: 300\n",
      "Reservation Status: True\n",
      "Ticket Info:\n",
      "Ticket ID: 12345678\n",
      "Event Name: The Avengers\n",
      "Event Date: 5-july-2023\n",
      "Venue: PVR\n",
      "Seat Number: 100\n",
      "Price: 300\n",
      "Reservation Status: False\n"
     ]
    }
   ],
   "source": [
    "# 8.For a ticket booking system, you have to design the \"Ticket\" class with OOP\n",
    "# principles in mind. The “Ticket” class should have the following attributes:\n",
    "# a. ticket_id: Represents the unique identifier for the ticket.\n",
    "# b. event_name: Represents the name of the event.\n",
    "# c. event_date: Represents the date of the event.\n",
    "# d. venue: Represents the venue of the event.\n",
    "# e. seat_number: Represents the seat number associated with the ticket.\n",
    "# f. price: Represents the price of the ticket.\n",
    "# g. is_reserved: Represents the reservation status of the ticket.\n",
    "# The class also includes the following methods:\n",
    "# a. reserve_ticket(self): Marks the ticket as reserved if it is not already reserved.\n",
    "# b. cancel_reservation(self): Cancels the reservation of the ticket if it is already\n",
    "# reserved.\n",
    "# c. display_ticket_info(self): Displays the information about the ticket, including its\n",
    "# attributes and reservation status.\n",
    "\n",
    "\n",
    "class Ticket:\n",
    "    def __init__(self, ticket_id, event_name, event_date, venue, seat_number, price, is_reserved=False):\n",
    "        self.ticket_id = ticket_id\n",
    "        self.event_name = event_name\n",
    "        self.event_date = event_date\n",
    "        self.venue = venue\n",
    "        self.seat_number = seat_number\n",
    "        self.price = price\n",
    "        self.is_reserved = is_reserved\n",
    "\n",
    "    def reserve_ticket(self):\n",
    "        if self.is_reserved:\n",
    "            raise ValueError(\"Ticket is already reserved\")\n",
    "        self.is_reserved = True\n",
    "\n",
    "    def cancel_reservation(self):\n",
    "        if not self.is_reserved:\n",
    "            raise ValueError(\"Ticket is not reserved\")\n",
    "        self.is_reserved = False\n",
    "\n",
    "    def display_ticket_info(self):\n",
    "        print(\"Ticket ID:\", self.ticket_id)\n",
    "        print(\"Event Name:\", self.event_name)\n",
    "        print(\"Event Date:\", self.event_date)\n",
    "        print(\"Venue:\", self.venue)\n",
    "        print(\"Seat Number:\", self.seat_number)\n",
    "        print(\"Price:\", self.price)\n",
    "        print(\"Reservation Status:\", self.is_reserved)\n",
    "        \n",
    "ticket = Ticket(12345678, \"The Avengers\", \"5-july-2023\", \"PVR\", 100, 300)\n",
    "print(\"Ticket Info:\")\n",
    "ticket.display_ticket_info()\n",
    "ticket.reserve_ticket()\n",
    "print(\"Ticket Info:\")\n",
    "ticket.display_ticket_info()\n",
    "ticket.cancel_reservation()\n",
    "print(\"Ticket Info:\")\n",
    "ticket.display_ticket_info()"
   ]
  },
  {
   "cell_type": "code",
   "execution_count": null,
   "id": "8c553392",
   "metadata": {},
   "outputs": [],
   "source": [
    "# 9. You are creating a shopping cart for an e-commerce website. Using OOP to model\n",
    "# the \"ShoppingCart\" functionality the class should contain following attributes and\n",
    "# methods:\n",
    "# a. items: Represents the list of items in the shopping cart.\n",
    "# The class also includes the following methods:\n",
    "# a. add_item(self, item): Adds an item to the shopping cart by appending it to the\n",
    "# list of items.\n",
    "# b. remove_item(self, item): Removes an item from the shopping cart if it exists in\n",
    "# the list.\n",
    "# c. view_cart(self): Displays the items currently present in the shopping cart.\n",
    "# d. clear_cart(self): Clears all items from the shopping cart by reassigning an\n",
    "# empty list to the items attribute."
   ]
  },
  {
   "cell_type": "code",
   "execution_count": 70,
   "id": "3f4bfd9c",
   "metadata": {},
   "outputs": [],
   "source": [
    "class shoppingCart:\n",
    "    def __init__(self,items):\n",
    "        self.items=items\n",
    "        \n",
    "    def add_item(self, add_item):\n",
    "        self.items.append(add_item)\n",
    "        \n",
    "    def remove_item(self, removeitem):\n",
    "        self.items.remove(removeitem)\n",
    "        \n",
    "    def view_cart(self):\n",
    "        for i in self.items:\n",
    "            print(i)\n",
    "            \n",
    "    def clear_cart(self):\n",
    "        self.items= []"
   ]
  },
  {
   "cell_type": "code",
   "execution_count": 71,
   "id": "7f77a761",
   "metadata": {},
   "outputs": [
    {
     "name": "stdout",
     "output_type": "stream",
     "text": [
      "['SODA', 'SOFT DRINKS', 'MILK', 'CHIPS', 'EGGS', 'BREAD', 'INSTANT OATMEALCANDY BARS', 'BLOCK CHEESE', 'BOTTLED WATER', 'CHOCOLATE BARS', 'SNACK CAKES']\n",
      "SOFT DRINKS\n",
      "MILK\n",
      "CHIPS\n",
      "EGGS\n",
      "BREAD\n",
      "INSTANT OATMEAL\n",
      "CANDY BARS\n",
      "BLOCK CHEESE\n",
      "['BOTTLED WATER', 'CHOCOLATE BARS', 'SNACK CAKES']\n"
     ]
    }
   ],
   "source": [
    "grocery_items=shoppingCart(['SODA','SOFT DRINKS','MILK','CHIPS','EGGS','BREAD', 'INSTANT OATMEAL','CANDY BARS', 'BLOCK CHEESE'])\n",
    "grocery_items.add_item(['BOTTLED WATER','CHOCOLATE BARS','SNACK CAKES'])\n",
    "print(my_cart.items)\n",
    "grocery_items.remove_item('SODA')\n",
    "grocery_items.view_cart()"
   ]
  },
  {
   "cell_type": "code",
   "execution_count": 72,
   "id": "42b287ec",
   "metadata": {},
   "outputs": [],
   "source": [
    "grocery_items.clear_cart()\n",
    "grocery_items.view_cart()"
   ]
  },
  {
   "cell_type": "code",
   "execution_count": null,
   "id": "98c87193",
   "metadata": {},
   "outputs": [],
   "source": [
    "# 10. Imagine a school management system. You have to design the \"Student\" class using\n",
    "# OOP concepts.The “Student” class has the following attributes:\n",
    "# a. name: Represents the name of the student.\n",
    "# b. age: Represents the age of the student.\n",
    "# c. grade: Represents the grade or class of the student.\n",
    "# d. student_id: Represents the unique identifier for the student.\n",
    "# e. attendance: Represents the attendance record of the student.\n",
    "# The class should also include the following methods:\n",
    "# a. update_attendance(self, date, status): Updates the attendance record of the\n",
    "# student for a given date with the provided status (e.g., present or absent).\n",
    "# b. get_attendance(self): Returns the attendance record of the student.\n",
    "# c. get_average_attendance(self): Calculates and returns the average\n",
    "# attendance percentage of the student based on their attendance record."
   ]
  },
  {
   "cell_type": "code",
   "execution_count": 110,
   "id": "eb4f84a4",
   "metadata": {},
   "outputs": [],
   "source": [
    "import math\n",
    "\n",
    "class student:\n",
    "    def __init__(self,name,age,grade,student_id,attendance):\n",
    "        self.name=name\n",
    "        self.age=age\n",
    "        self.grade=grade\n",
    "        self.student_id=student_id\n",
    "        self.attendance=attendance\n",
    "        \n",
    "    def update_attendance(self, date, status):\n",
    "        if status=='present':\n",
    "            self.attendance += 1\n",
    "    \n",
    "    def get_attendance(self):\n",
    "        return self.attendance\n",
    "    \n",
    "    def get_average_attendance(self):\n",
    "        average=(self.attendance/180)* 100\n",
    "        return average"
   ]
  },
  {
   "cell_type": "code",
   "execution_count": 111,
   "id": "80347e2f",
   "metadata": {},
   "outputs": [
    {
     "name": "stdout",
     "output_type": "stream",
     "text": [
      "91\n",
      "50.55555555555556\n"
     ]
    }
   ],
   "source": [
    "student1=student('mak',24,8.5,12,90)\n",
    "student1.update_attendance('13-july-2023', 'present')\n",
    "print(student1.get_attendance())\n",
    "print(student1.get_average_attendance())"
   ]
  },
  {
   "cell_type": "code",
   "execution_count": null,
   "id": "85968b70",
   "metadata": {},
   "outputs": [],
   "source": []
  },
  {
   "cell_type": "code",
   "execution_count": null,
   "id": "d63a8d8f",
   "metadata": {},
   "outputs": [],
   "source": []
  },
  {
   "cell_type": "code",
   "execution_count": null,
   "id": "74a2be30",
   "metadata": {},
   "outputs": [],
   "source": []
  },
  {
   "cell_type": "code",
   "execution_count": null,
   "id": "de1178c5",
   "metadata": {},
   "outputs": [],
   "source": []
  },
  {
   "cell_type": "code",
   "execution_count": null,
   "id": "0d4c25e9",
   "metadata": {},
   "outputs": [],
   "source": []
  },
  {
   "cell_type": "code",
   "execution_count": null,
   "id": "8a44bc1e",
   "metadata": {},
   "outputs": [],
   "source": []
  }
 ],
 "metadata": {
  "kernelspec": {
   "display_name": "Python 3 (ipykernel)",
   "language": "python",
   "name": "python3"
  },
  "language_info": {
   "codemirror_mode": {
    "name": "ipython",
    "version": 3
   },
   "file_extension": ".py",
   "mimetype": "text/x-python",
   "name": "python",
   "nbconvert_exporter": "python",
   "pygments_lexer": "ipython3",
   "version": "3.9.13"
  }
 },
 "nbformat": 4,
 "nbformat_minor": 5
}
