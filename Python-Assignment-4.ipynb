{
 "cells": [
  {
   "cell_type": "code",
   "execution_count": null,
   "id": "910f23db",
   "metadata": {},
   "outputs": [],
   "source": [
    "Python-Assignment-4\n",
    "\n",
    "1. What exactly is []?\n",
    "2. In a list of values stored in a variable called spam, how would you assign the value 'hello' as the third value? (Assume [2, 4, 6, 8, 10] are in spam.)\n",
    "Let's pretend the spam includes the list ['a', 'b', 'c', 'd'] for the next three queries.\n",
    "3. What is the value of spam[int(int('3' * 2) / 11)]?\n",
    "4. What is the value of spam[-1]?\n",
    "5. What is the value of spam[:2]?\n",
    "Let's pretend bacon has the list [3.14, 'cat,' 11, 'cat,' True] for the next three questions.\n",
    "6. What is the value of bacon.index('cat')?\n",
    "7. How does bacon.append(99) change the look of the list value in bacon?\n",
    "8. How does bacon.remove('cat') change the look of the list in bacon?\n",
    "9. What are the list concatenation and list replication operators?\n",
    "10. What is difference between the list methods append() and insert()?\n",
    "11. What are the two methods for removing items from a list?\n",
    "12. Describe how list values and string values are identical.\n",
    "13. What's the difference between tuples and lists?\n",
    "14. How do you type a tuple value that only contains the integer 42?\n",
    "15. How do you get a list value's tuple form? How do you get a tuple value's list form?\n",
    "16. Variables that \"contain\" list values are not necessarily lists themselves. Instead, what do they contain?\n",
    "17. How do you distinguish between copy.copy() and copy.deepcopy()?\n",
    "\n"
   ]
  },
  {
   "cell_type": "code",
   "execution_count": null,
   "id": "338a12b2",
   "metadata": {},
   "outputs": [],
   "source": [
    "# 1. What exactly is []?\n",
    "\n",
    "'''\n",
    "Empty list\n",
    "'''"
   ]
  },
  {
   "cell_type": "code",
   "execution_count": 7,
   "id": "331c3c1c",
   "metadata": {},
   "outputs": [
    {
     "name": "stdout",
     "output_type": "stream",
     "text": [
      "Hello\n"
     ]
    }
   ],
   "source": [
    "# 2. In a list of values stored in a variable called spam, how would you assign the value 'hello' as the third value? (Assume [2, 4, 6, 8, 10] are in spam.)\n",
    "\n",
    "spam=[2, 4, 6, 8, 10]\n",
    "\n",
    "spam[2]=\"Hello\"\n",
    "print(spam[2])"
   ]
  },
  {
   "cell_type": "code",
   "execution_count": 14,
   "id": "ebdb2f26",
   "metadata": {},
   "outputs": [
    {
     "data": {
      "text/plain": [
       "\"['a', 'b']\""
      ]
     },
     "execution_count": 14,
     "metadata": {},
     "output_type": "execute_result"
    }
   ],
   "source": [
    "#Let's pretend the spam includes the list ['a', 'b', 'c', 'd'] for the next three queries.\n",
    "#3. What is the value of spam[int(int('3' * 2) / 11)]? \n",
    "#4. What is the value of spam[-1]? \n",
    "#5. What is the value of spam[:2]?   \n",
    "\n",
    "#3. What is the value of spam[int(int('3' * 2) / 11)]? \n",
    "\n",
    "'''d'''\n",
    "\n",
    "#4. What is the value of spam[-1]? \n",
    "\n",
    "'''d'''\n",
    "\n",
    "#5. What is the value of spam[:2]?   \n",
    "\n",
    "'''['a', 'b']'''\n"
   ]
  },
  {
   "cell_type": "code",
   "execution_count": 18,
   "id": "02e41a75",
   "metadata": {},
   "outputs": [],
   "source": [
    "#Let's pretend bacon has the list [3.14, 'cat', 11, 'cat,' True] for the next three questions.\n",
    "#6. What is the value of bacon.index('cat')? '''1'''\n",
    "#7. How does bacon.append(99) change the look of the list value in bacon? '''It will add 99 at the end of the list'''\n",
    "#8. How does bacon.remove('cat') change the look of the list in bacon? '''It will remove the \"cat\" which is mentioned at last time'''\n",
    "\n",
    "#6. What is the value of bacon.index('cat')? \n",
    "\n",
    "'''1'''\n",
    "\n",
    "#7. How does bacon.append(99) change the look of the list value in bacon? \n",
    "\n",
    "'''It will (append)add 99 at the end of the list'''\n",
    "\n",
    "#8. How does bacon.remove('cat') change the look of the list in bacon? \n",
    "\n",
    "'''It will remove the \"cat\" which is mentioned at last time'''\n"
   ]
  },
  {
   "cell_type": "code",
   "execution_count": null,
   "id": "4cb5e524",
   "metadata": {},
   "outputs": [],
   "source": [
    "# 9. What are the list concatenation and list replication operators?\n",
    "\n",
    "'''\n",
    "The operator for list concatenation is +, while the operator for replication is *.\n",
    "'''"
   ]
  },
  {
   "cell_type": "code",
   "execution_count": 24,
   "id": "2b0b45f6",
   "metadata": {},
   "outputs": [
    {
     "data": {
      "text/plain": [
       "'\\nappend() can add any values at the end of the list and insert() can add any valu\\nvalues at any place of the list'"
      ]
     },
     "execution_count": 24,
     "metadata": {},
     "output_type": "execute_result"
    }
   ],
   "source": [
    "#10. What is difference between the list methods append() and insert()?\n",
    "\n",
    "'''\n",
    "append () can add any values at the end of the list and insert () can add any values at any place on the list\n",
    "'''"
   ]
  },
  {
   "cell_type": "code",
   "execution_count": null,
   "id": "54a90305",
   "metadata": {},
   "outputs": [],
   "source": [
    "# 11. What are the two methods for removing items from a list?\n",
    "\n",
    "'''\n",
    "remove()\n",
    "pop()\n",
    "'''"
   ]
  },
  {
   "cell_type": "code",
   "execution_count": null,
   "id": "2e465df5",
   "metadata": {},
   "outputs": [],
   "source": [
    "# 12. Describe how list values and string values are identical?\n",
    "\n",
    "'''\n",
    "The differences between them are that firstly, Lists[] are mutable but Strings\" \" are immutable. Secondly, elements of a list can be of different types whereas a String only contains characters that are all of String type.\n",
    "'''"
   ]
  },
  {
   "cell_type": "code",
   "execution_count": null,
   "id": "79c7b402",
   "metadata": {},
   "outputs": [],
   "source": [
    "# 13. What's the difference between tuples and lists?\n",
    "\n",
    "'''\n",
    "Tuples:-tuples are defined as (), it is immutable\n",
    "lists:- lists are defined as [], it is mutable\n",
    "'''"
   ]
  },
  {
   "cell_type": "code",
   "execution_count": 44,
   "id": "ca730230",
   "metadata": {},
   "outputs": [
    {
     "name": "stdout",
     "output_type": "stream",
     "text": [
      "<class 'tuple'>\n"
     ]
    }
   ],
   "source": [
    "#14. How do you type a tuple value that only contains the integer 42?\n",
    "\n",
    "My_tuple=(42,)\n",
    "\n",
    "print(type(My_tuple))\n"
   ]
  },
  {
   "cell_type": "code",
   "execution_count": 49,
   "id": "ceb182fe",
   "metadata": {},
   "outputs": [
    {
     "name": "stdout",
     "output_type": "stream",
     "text": [
      "<class 'tuple'>\n",
      "<class 'list'>\n"
     ]
    }
   ],
   "source": [
    "#15. How do you get a list value's tuple form? How do you get a tuple value's list form? \n",
    "\n",
    "\n",
    "#list value's tuple form\n",
    "lst=[1,2,3,4]\n",
    "tuple1=tuple(lst)\n",
    "print(type(tuple1))\n",
    "\n",
    "\n",
    "#tuple value's list form\n",
    "my_tuple=(1,2,3,4,5)\n",
    "list1=list(my_tuple)\n",
    "print(type(list1))"
   ]
  },
  {
   "cell_type": "code",
   "execution_count": null,
   "id": "f67f4222",
   "metadata": {},
   "outputs": [],
   "source": [
    "# 16. Variables that \"contain\" list values are not necessarily lists themselves. Instead, what do they contain?\n",
    "\n",
    "'''\n",
    "Variables will contain references to list values rather than list values themselves. But for strings and integer values, variables simply contain the string or integer value.\n",
    "'''"
   ]
  },
  {
   "cell_type": "code",
   "execution_count": 25,
   "id": "c96f3fab",
   "metadata": {},
   "outputs": [
    {
     "name": "stdout",
     "output_type": "stream",
     "text": [
      "li2 ID:  1775180211968 Value:  [1, 2, [3, 5], 4]\n",
      "li3 ID:  1775179059136 Value:  [1, 2, [3, 5], 4]\n"
     ]
    }
   ],
   "source": [
    "# 17. How do you distinguish between copy.copy() and copy.deepcopy()?\n",
    "\n",
    "# importing copy module\n",
    "import copy\n",
    " \n",
    "# initializing list 1\n",
    "li1 = [1, 2, [3, 5], 4]\n",
    " \n",
    "# using copy for shallow copy\n",
    "li2 = copy.copy(li1)\n",
    "print(\"li2 ID: \", id(li2), \"Value: \", li2)\n",
    "# using deepcopy for deepcopy\n",
    "li3 = copy.deepcopy(li1)\n",
    "print(\"li3 ID: \", id(li3), \"Value: \", li3)\n"
   ]
  },
  {
   "cell_type": "code",
   "execution_count": null,
   "id": "9f09e3dd",
   "metadata": {},
   "outputs": [],
   "source": []
  },
  {
   "cell_type": "code",
   "execution_count": null,
   "id": "f72b20b1",
   "metadata": {},
   "outputs": [],
   "source": []
  },
  {
   "cell_type": "code",
   "execution_count": null,
   "id": "7f7bc44a",
   "metadata": {},
   "outputs": [],
   "source": []
  },
  {
   "cell_type": "code",
   "execution_count": null,
   "id": "c5a68d35",
   "metadata": {},
   "outputs": [],
   "source": []
  },
  {
   "cell_type": "code",
   "execution_count": null,
   "id": "d5034a83",
   "metadata": {},
   "outputs": [],
   "source": []
  },
  {
   "cell_type": "code",
   "execution_count": null,
   "id": "41159f49",
   "metadata": {},
   "outputs": [],
   "source": []
  }
 ],
 "metadata": {
  "kernelspec": {
   "display_name": "Python 3 (ipykernel)",
   "language": "python",
   "name": "python3"
  },
  "language_info": {
   "codemirror_mode": {
    "name": "ipython",
    "version": 3
   },
   "file_extension": ".py",
   "mimetype": "text/x-python",
   "name": "python",
   "nbconvert_exporter": "python",
   "pygments_lexer": "ipython3",
   "version": "3.9.13"
  }
 },
 "nbformat": 4,
 "nbformat_minor": 5
}
